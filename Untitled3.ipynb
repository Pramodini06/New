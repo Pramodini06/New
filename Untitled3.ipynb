{
  "nbformat": 4,
  "nbformat_minor": 0,
  "metadata": {
    "colab": {
      "provenance": [],
      "authorship_tag": "ABX9TyONSrHYMY1+fPos8EWHKMCS",
      "include_colab_link": true
    },
    "kernelspec": {
      "name": "python3",
      "display_name": "Python 3"
    },
    "language_info": {
      "name": "python"
    }
  },
  "cells": [
    {
      "cell_type": "markdown",
      "metadata": {
        "id": "view-in-github",
        "colab_type": "text"
      },
      "source": [
        "<a href=\"https://colab.research.google.com/github/Pramodini06/New/blob/main/Untitled3.ipynb\" target=\"_parent\"><img src=\"https://colab.research.google.com/assets/colab-badge.svg\" alt=\"Open In Colab\"/></a>"
      ]
    },
    {
      "cell_type": "code",
      "execution_count": 1,
      "metadata": {
        "colab": {
          "base_uri": "https://localhost:8080/"
        },
        "id": "MKNzBtnnvPdv",
        "outputId": "293e7601-ac20-45e1-e1c9-bc80732be37e"
      },
      "outputs": [
        {
          "output_type": "stream",
          "name": "stdout",
          "text": [
            "(0.5, 0.3333333333333333, 0.6666666666666666)\n"
          ]
        }
      ],
      "source": [
        "def dice_probability():\n",
        "    \"\"\"\n",
        "    Calculate probabilities for a fair 6-sided dice:\n",
        "    a) P(rolling an even number)\n",
        "    b) P(rolling number > 4)\n",
        "    c) P(rolling even OR >4) using inclusion-exclusion\n",
        "\n",
        "    base formula : P(A U B)= P(A)+P(B)-P(A intersection B)\n",
        "    \"\"\"\n",
        "    total = 6\n",
        "    even = {2,4,6}  # 3 outcomes\n",
        "    greater_than_4 = {5,6}  # 2 outcomes\n",
        "    intersection = even & greater_than_4  # {6}\n",
        "\n",
        "    p_even = len(even)/total\n",
        "    p_gt4 = len(greater_than_4)/total\n",
        "    p_union = p_even + p_gt4 - len(intersection)/total\n",
        "\n",
        "    return p_even, p_gt4, p_union\n",
        "\n",
        "print(dice_probability())  # (0.5, 0.3333, 0.6667)"
      ]
    }
  ]
}